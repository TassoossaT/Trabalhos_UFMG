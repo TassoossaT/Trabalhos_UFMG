{
  "cells": [
    {
      "cell_type": "raw",
      "metadata": {},
      "source": [
        "---\n",
        "title: \"TP2: Implementac¸ao do Algoritmo de Boosting\"\n",
        "author: Tasso Augusto Tomaz Pimenta 2021072198\n",
        "format: \n",
        "        pdf:\n",
        "            toc: true\n",
        "            lot: True\n",
        "echo: true\n",
        "---"
      ],
      "id": "3a487d5b"
    },
    {
      "cell_type": "code",
      "metadata": {},
      "source": [
        "import pandas as pd\n",
        "from math import log, e\n",
        "\n",
        "def splits(k, df):\n",
        "    splits = []\n",
        "    for i in range(k):\n",
        "        splits.append(df[(len(df)//k)*(i):(len(df)//k)*(i+1)])\n",
        "    return splits"
      ],
      "id": "f9f50480",
      "execution_count": null,
      "outputs": []
    },
    {
      "cell_type": "code",
      "metadata": {},
      "source": [
        "def tree(w:list, df):#w: list,\n",
        "    impury = {}\n",
        "    gini_  = {}\n",
        "    for x in df.columns[:len(df.columns) - 1]:#Para cada coluna dos inputs\n",
        "        positive = {'x': 0, 'o': 0, 'b': 0}  \n",
        "        negative = {'x': 0, 'o': 0, 'b': 0}\n",
        "        gini     = {'x': 0, 'o': 0, 'b': 0}\n",
        "        impurity = 0.0\n",
        "        for i, value in enumerate(df[x]):# Para cada valor de cada input\n",
        "            if value in ('x', 'o', 'b'):\n",
        "                if df.loc[i, 'x-win'] == 'positive':\n",
        "                    positive[value] += w[i]\n",
        "                else:\n",
        "                    negative[value] += w[i]\n",
        "            else: print(f\"Erro na posição {i}\")\n",
        "        for value in ('x','o','b'):\n",
        "            gini[value] = 1 - pow((positive[value]/(positive[value]+negative[value])),2) - pow((negative[value]/(positive[value]+negative[value])),2)\n",
        "        for value in ('x','o','b'):\n",
        "            impurity += ((positive[value] + negative[value])*gini[value])/1#soma dos pesos é 1\n",
        "        impury[x] = impurity\n",
        "        gini_[x] = gini\n",
        "    col = min(impury, key=impury.get)\n",
        "    return [col, min(gini_[col],key=gini_[col].get)]"
      ],
      "id": "eb4d384f",
      "execution_count": null,
      "outputs": []
    },
    {
      "cell_type": "code",
      "metadata": {},
      "source": [
        "class H():\n",
        "    def __init__(self, result: list):\n",
        "        self.col = result[0]\n",
        "        self.val = result[1]\n",
        "    def classifier(self, x:list):\n",
        "        if x[self.col] == self.val:\n",
        "            return 1\n",
        "        else:\n",
        "            return -1"
      ],
      "id": "add87e38",
      "execution_count": null,
      "outputs": []
    },
    {
      "cell_type": "code",
      "metadata": {},
      "source": [
        "def y(x:list):\n",
        "        if x['x-win']   == 'positive': return 1\n",
        "        elif x['x-win'] == 'negative': return -1\n",
        "        else:   print(f\"Erro na posição {i}\")"
      ],
      "id": "abfe266a",
      "execution_count": null,
      "outputs": []
    },
    {
      "cell_type": "code",
      "metadata": {},
      "source": [
        "df = pd.read_csv('tic+tac+toe+endgame/tic-tac-toe.data', sep=',') \n",
        "df = df.sample(frac=1)\n",
        "print(df)\n",
        "cross = splits(5, df)\n",
        "train = pd.concat(cross[0:4])\n",
        "test  = pd.concat(cross[4:5])\n",
        "w = [1/len(train)]*len(train)\n",
        "stump = tree(w,train)\n",
        "#print(stump)\n",
        "h = H(stump)\n",
        "sucesso,error = 0.0,0.0\n",
        "for index, row in train.iterrows():\n",
        "    if h.classifier(row) == 1: sucesso +=1\n",
        "    else: error += 1\n",
        "error = error/sucesso\n",
        "alpha = (1/2)*log((1-error)/error)\n",
        "for index, row in train.iterrows():\n",
        "    w[index] = w[index]*pow(e,-alpha*y(row)*h.classifier(row))"
      ],
      "id": "5b7b6e87",
      "execution_count": null,
      "outputs": []
    }
  ],
  "metadata": {
    "kernelspec": {
      "name": "python3",
      "language": "python",
      "display_name": "Python 3 (ipykernel)"
    }
  },
  "nbformat": 4,
  "nbformat_minor": 5
}